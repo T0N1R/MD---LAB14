{
 "cells": [
  {
   "cell_type": "markdown",
   "metadata": {},
   "source": [
    "Antonio Reyes\n",
    "\n",
    "Dieter de Wit"
   ]
  },
  {
   "cell_type": "markdown",
   "metadata": {},
   "source": [
    "# Build your first Neural Network to predict house prices with Keras"
   ]
  },
  {
   "cell_type": "code",
   "execution_count": 1,
   "metadata": {},
   "outputs": [],
   "source": [
    "import pandas as pd"
   ]
  },
  {
   "cell_type": "code",
   "execution_count": 2,
   "metadata": {},
   "outputs": [
    {
     "data": {
      "text/html": [
       "<div>\n",
       "<style scoped>\n",
       "    .dataframe tbody tr th:only-of-type {\n",
       "        vertical-align: middle;\n",
       "    }\n",
       "\n",
       "    .dataframe tbody tr th {\n",
       "        vertical-align: top;\n",
       "    }\n",
       "\n",
       "    .dataframe thead th {\n",
       "        text-align: right;\n",
       "    }\n",
       "</style>\n",
       "<table border=\"1\" class=\"dataframe\">\n",
       "  <thead>\n",
       "    <tr style=\"text-align: right;\">\n",
       "      <th></th>\n",
       "      <th>LotArea</th>\n",
       "      <th>OverallQual</th>\n",
       "      <th>OverallCond</th>\n",
       "      <th>TotalBsmtSF</th>\n",
       "      <th>FullBath</th>\n",
       "      <th>HalfBath</th>\n",
       "      <th>BedroomAbvGr</th>\n",
       "      <th>TotRmsAbvGrd</th>\n",
       "      <th>Fireplaces</th>\n",
       "      <th>GarageArea</th>\n",
       "      <th>AboveMedianPrice</th>\n",
       "    </tr>\n",
       "  </thead>\n",
       "  <tbody>\n",
       "    <tr>\n",
       "      <th>0</th>\n",
       "      <td>8450</td>\n",
       "      <td>7</td>\n",
       "      <td>5</td>\n",
       "      <td>856</td>\n",
       "      <td>2</td>\n",
       "      <td>1</td>\n",
       "      <td>3</td>\n",
       "      <td>8</td>\n",
       "      <td>0</td>\n",
       "      <td>548</td>\n",
       "      <td>1</td>\n",
       "    </tr>\n",
       "    <tr>\n",
       "      <th>1</th>\n",
       "      <td>9600</td>\n",
       "      <td>6</td>\n",
       "      <td>8</td>\n",
       "      <td>1262</td>\n",
       "      <td>2</td>\n",
       "      <td>0</td>\n",
       "      <td>3</td>\n",
       "      <td>6</td>\n",
       "      <td>1</td>\n",
       "      <td>460</td>\n",
       "      <td>1</td>\n",
       "    </tr>\n",
       "    <tr>\n",
       "      <th>2</th>\n",
       "      <td>11250</td>\n",
       "      <td>7</td>\n",
       "      <td>5</td>\n",
       "      <td>920</td>\n",
       "      <td>2</td>\n",
       "      <td>1</td>\n",
       "      <td>3</td>\n",
       "      <td>6</td>\n",
       "      <td>1</td>\n",
       "      <td>608</td>\n",
       "      <td>1</td>\n",
       "    </tr>\n",
       "    <tr>\n",
       "      <th>3</th>\n",
       "      <td>9550</td>\n",
       "      <td>7</td>\n",
       "      <td>5</td>\n",
       "      <td>756</td>\n",
       "      <td>1</td>\n",
       "      <td>0</td>\n",
       "      <td>3</td>\n",
       "      <td>7</td>\n",
       "      <td>1</td>\n",
       "      <td>642</td>\n",
       "      <td>0</td>\n",
       "    </tr>\n",
       "    <tr>\n",
       "      <th>4</th>\n",
       "      <td>14260</td>\n",
       "      <td>8</td>\n",
       "      <td>5</td>\n",
       "      <td>1145</td>\n",
       "      <td>2</td>\n",
       "      <td>1</td>\n",
       "      <td>4</td>\n",
       "      <td>9</td>\n",
       "      <td>1</td>\n",
       "      <td>836</td>\n",
       "      <td>1</td>\n",
       "    </tr>\n",
       "    <tr>\n",
       "      <th>...</th>\n",
       "      <td>...</td>\n",
       "      <td>...</td>\n",
       "      <td>...</td>\n",
       "      <td>...</td>\n",
       "      <td>...</td>\n",
       "      <td>...</td>\n",
       "      <td>...</td>\n",
       "      <td>...</td>\n",
       "      <td>...</td>\n",
       "      <td>...</td>\n",
       "      <td>...</td>\n",
       "    </tr>\n",
       "    <tr>\n",
       "      <th>1455</th>\n",
       "      <td>7917</td>\n",
       "      <td>6</td>\n",
       "      <td>5</td>\n",
       "      <td>953</td>\n",
       "      <td>2</td>\n",
       "      <td>1</td>\n",
       "      <td>3</td>\n",
       "      <td>7</td>\n",
       "      <td>1</td>\n",
       "      <td>460</td>\n",
       "      <td>1</td>\n",
       "    </tr>\n",
       "    <tr>\n",
       "      <th>1456</th>\n",
       "      <td>13175</td>\n",
       "      <td>6</td>\n",
       "      <td>6</td>\n",
       "      <td>1542</td>\n",
       "      <td>2</td>\n",
       "      <td>0</td>\n",
       "      <td>3</td>\n",
       "      <td>7</td>\n",
       "      <td>2</td>\n",
       "      <td>500</td>\n",
       "      <td>1</td>\n",
       "    </tr>\n",
       "    <tr>\n",
       "      <th>1457</th>\n",
       "      <td>9042</td>\n",
       "      <td>7</td>\n",
       "      <td>9</td>\n",
       "      <td>1152</td>\n",
       "      <td>2</td>\n",
       "      <td>0</td>\n",
       "      <td>4</td>\n",
       "      <td>9</td>\n",
       "      <td>2</td>\n",
       "      <td>252</td>\n",
       "      <td>1</td>\n",
       "    </tr>\n",
       "    <tr>\n",
       "      <th>1458</th>\n",
       "      <td>9717</td>\n",
       "      <td>5</td>\n",
       "      <td>6</td>\n",
       "      <td>1078</td>\n",
       "      <td>1</td>\n",
       "      <td>0</td>\n",
       "      <td>2</td>\n",
       "      <td>5</td>\n",
       "      <td>0</td>\n",
       "      <td>240</td>\n",
       "      <td>0</td>\n",
       "    </tr>\n",
       "    <tr>\n",
       "      <th>1459</th>\n",
       "      <td>9937</td>\n",
       "      <td>5</td>\n",
       "      <td>6</td>\n",
       "      <td>1256</td>\n",
       "      <td>1</td>\n",
       "      <td>1</td>\n",
       "      <td>3</td>\n",
       "      <td>6</td>\n",
       "      <td>0</td>\n",
       "      <td>276</td>\n",
       "      <td>0</td>\n",
       "    </tr>\n",
       "  </tbody>\n",
       "</table>\n",
       "<p>1460 rows × 11 columns</p>\n",
       "</div>"
      ],
      "text/plain": [
       "      LotArea  OverallQual  OverallCond  TotalBsmtSF  FullBath  HalfBath  \\\n",
       "0        8450            7            5          856         2         1   \n",
       "1        9600            6            8         1262         2         0   \n",
       "2       11250            7            5          920         2         1   \n",
       "3        9550            7            5          756         1         0   \n",
       "4       14260            8            5         1145         2         1   \n",
       "...       ...          ...          ...          ...       ...       ...   \n",
       "1455     7917            6            5          953         2         1   \n",
       "1456    13175            6            6         1542         2         0   \n",
       "1457     9042            7            9         1152         2         0   \n",
       "1458     9717            5            6         1078         1         0   \n",
       "1459     9937            5            6         1256         1         1   \n",
       "\n",
       "      BedroomAbvGr  TotRmsAbvGrd  Fireplaces  GarageArea  AboveMedianPrice  \n",
       "0                3             8           0         548                 1  \n",
       "1                3             6           1         460                 1  \n",
       "2                3             6           1         608                 1  \n",
       "3                3             7           1         642                 0  \n",
       "4                4             9           1         836                 1  \n",
       "...            ...           ...         ...         ...               ...  \n",
       "1455             3             7           1         460                 1  \n",
       "1456             3             7           2         500                 1  \n",
       "1457             4             9           2         252                 1  \n",
       "1458             2             5           0         240                 0  \n",
       "1459             3             6           0         276                 0  \n",
       "\n",
       "[1460 rows x 11 columns]"
      ]
     },
     "execution_count": 2,
     "metadata": {},
     "output_type": "execute_result"
    }
   ],
   "source": [
    "df = pd.read_csv('housepricedata.csv')\n",
    "df"
   ]
  },
  {
   "cell_type": "code",
   "execution_count": 3,
   "metadata": {},
   "outputs": [
    {
     "data": {
      "text/plain": [
       "array([[ 8450,     7,     5, ...,     0,   548,     1],\n",
       "       [ 9600,     6,     8, ...,     1,   460,     1],\n",
       "       [11250,     7,     5, ...,     1,   608,     1],\n",
       "       ...,\n",
       "       [ 9042,     7,     9, ...,     2,   252,     1],\n",
       "       [ 9717,     5,     6, ...,     0,   240,     0],\n",
       "       [ 9937,     5,     6, ...,     0,   276,     0]], dtype=int64)"
      ]
     },
     "execution_count": 3,
     "metadata": {},
     "output_type": "execute_result"
    }
   ],
   "source": [
    "dataset = df.values\n",
    "dataset"
   ]
  },
  {
   "cell_type": "code",
   "execution_count": 4,
   "metadata": {},
   "outputs": [],
   "source": [
    "X = dataset[:,0:10]\n",
    "Y = dataset[:,10]"
   ]
  },
  {
   "cell_type": "code",
   "execution_count": 5,
   "metadata": {},
   "outputs": [],
   "source": [
    "from sklearn import preprocessing\n",
    "min_max_scaler = preprocessing.MinMaxScaler()\n",
    "X_scale = min_max_scaler.fit_transform(X)"
   ]
  },
  {
   "cell_type": "code",
   "execution_count": 6,
   "metadata": {},
   "outputs": [
    {
     "data": {
      "text/plain": [
       "array([[0.0334198 , 0.66666667, 0.5       , ..., 0.5       , 0.        ,\n",
       "        0.3864598 ],\n",
       "       [0.03879502, 0.55555556, 0.875     , ..., 0.33333333, 0.33333333,\n",
       "        0.32440056],\n",
       "       [0.04650728, 0.66666667, 0.5       , ..., 0.33333333, 0.33333333,\n",
       "        0.42877292],\n",
       "       ...,\n",
       "       [0.03618687, 0.66666667, 1.        , ..., 0.58333333, 0.66666667,\n",
       "        0.17771509],\n",
       "       [0.03934189, 0.44444444, 0.625     , ..., 0.25      , 0.        ,\n",
       "        0.16925247],\n",
       "       [0.04037019, 0.44444444, 0.625     , ..., 0.33333333, 0.        ,\n",
       "        0.19464034]])"
      ]
     },
     "execution_count": 6,
     "metadata": {},
     "output_type": "execute_result"
    }
   ],
   "source": [
    "X_scale"
   ]
  },
  {
   "cell_type": "code",
   "execution_count": 7,
   "metadata": {},
   "outputs": [],
   "source": [
    "from sklearn.model_selection import train_test_split\n",
    "X_train, X_val_and_test, Y_train, Y_val_and_test = train_test_split(X_scale, Y, test_size=0.3)\n",
    "\n",
    "X_val, X_test, Y_val, Y_test = train_test_split(X_val_and_test, Y_val_and_test, test_size=0.5)"
   ]
  },
  {
   "cell_type": "code",
   "execution_count": 8,
   "metadata": {},
   "outputs": [
    {
     "name": "stdout",
     "output_type": "stream",
     "text": [
      "(1022, 10) (219, 10) (219, 10) (1022,) (219,) (219,)\n"
     ]
    }
   ],
   "source": [
    "print(X_train.shape, X_val.shape, X_test.shape, Y_train.shape, Y_val.shape, Y_test.shape)"
   ]
  },
  {
   "cell_type": "code",
   "execution_count": 9,
   "metadata": {},
   "outputs": [
    {
     "name": "stderr",
     "output_type": "stream",
     "text": [
      "Using TensorFlow backend.\n"
     ]
    }
   ],
   "source": [
    "from keras.models import Sequential\n",
    "from keras.layers import Dense\n",
    "\n",
    "model = Sequential([\n",
    "    Dense(32, activation='relu', input_shape=(10,)),\n",
    "    Dense(32, activation='relu'),\n",
    "    Dense(1, activation='sigmoid'),\n",
    "])"
   ]
  },
  {
   "cell_type": "code",
   "execution_count": 10,
   "metadata": {},
   "outputs": [
    {
     "data": {
      "text/plain": [
       "(<keras.layers.core.Dense at 0x213cd142388>,)"
      ]
     },
     "execution_count": 10,
     "metadata": {},
     "output_type": "execute_result"
    }
   ],
   "source": [
    "Dense(32, activation='relu', input_shape=(10,)),"
   ]
  },
  {
   "cell_type": "code",
   "execution_count": 11,
   "metadata": {},
   "outputs": [
    {
     "data": {
      "text/plain": [
       "<keras.layers.core.Dense at 0x213cd1482c8>"
      ]
     },
     "execution_count": 11,
     "metadata": {},
     "output_type": "execute_result"
    }
   ],
   "source": [
    "Dense(32, activation='relu'),\n",
    "Dense(1, activation='sigmoid')"
   ]
  },
  {
   "cell_type": "code",
   "execution_count": 12,
   "metadata": {},
   "outputs": [],
   "source": [
    "model.compile(optimizer='sgd',\n",
    "              loss='binary_crossentropy',\n",
    "              metrics=['accuracy'])"
   ]
  },
  {
   "cell_type": "code",
   "execution_count": 13,
   "metadata": {},
   "outputs": [],
   "source": [
    "optimizer='sgd'"
   ]
  },
  {
   "cell_type": "code",
   "execution_count": 14,
   "metadata": {},
   "outputs": [],
   "source": [
    "loss='binary_crossentropy'"
   ]
  },
  {
   "cell_type": "code",
   "execution_count": 15,
   "metadata": {},
   "outputs": [],
   "source": [
    "metrics=['accuracy']"
   ]
  },
  {
   "cell_type": "code",
   "execution_count": 16,
   "metadata": {},
   "outputs": [
    {
     "name": "stdout",
     "output_type": "stream",
     "text": [
      "Train on 1022 samples, validate on 219 samples\n",
      "Epoch 1/100\n",
      "1022/1022 [==============================] - 0s 175us/step - loss: 0.6901 - accuracy: 0.5000 - val_loss: 0.6774 - val_accuracy: 0.5160\n",
      "Epoch 2/100\n",
      "1022/1022 [==============================] - 0s 64us/step - loss: 0.6794 - accuracy: 0.5000 - val_loss: 0.6687 - val_accuracy: 0.5160\n",
      "Epoch 3/100\n",
      "1022/1022 [==============================] - 0s 72us/step - loss: 0.6705 - accuracy: 0.5010 - val_loss: 0.6611 - val_accuracy: 0.5160\n",
      "Epoch 4/100\n",
      "1022/1022 [==============================] - 0s 64us/step - loss: 0.6634 - accuracy: 0.5108 - val_loss: 0.6549 - val_accuracy: 0.5251\n",
      "Epoch 5/100\n",
      "1022/1022 [==============================] - 0s 63us/step - loss: 0.6578 - accuracy: 0.5548 - val_loss: 0.6495 - val_accuracy: 0.5936\n",
      "Epoch 6/100\n",
      "1022/1022 [==============================] - 0s 64us/step - loss: 0.6528 - accuracy: 0.6076 - val_loss: 0.6445 - val_accuracy: 0.6530\n",
      "Epoch 7/100\n",
      "1022/1022 [==============================] - 0s 64us/step - loss: 0.6480 - accuracy: 0.6595 - val_loss: 0.6395 - val_accuracy: 0.6804\n",
      "Epoch 8/100\n",
      "1022/1022 [==============================] - 0s 51us/step - loss: 0.6433 - accuracy: 0.6879 - val_loss: 0.6346 - val_accuracy: 0.6941\n",
      "Epoch 9/100\n",
      "1022/1022 [==============================] - 0s 56us/step - loss: 0.6387 - accuracy: 0.7035 - val_loss: 0.6295 - val_accuracy: 0.6986\n",
      "Epoch 10/100\n",
      "1022/1022 [==============================] - 0s 65us/step - loss: 0.6338 - accuracy: 0.7094 - val_loss: 0.6245 - val_accuracy: 0.7078\n",
      "Epoch 11/100\n",
      "1022/1022 [==============================] - 0s 79us/step - loss: 0.6288 - accuracy: 0.7192 - val_loss: 0.6194 - val_accuracy: 0.7260\n",
      "Epoch 12/100\n",
      "1022/1022 [==============================] - 0s 71us/step - loss: 0.6239 - accuracy: 0.7397 - val_loss: 0.6140 - val_accuracy: 0.7352\n",
      "Epoch 13/100\n",
      "1022/1022 [==============================] - 0s 78us/step - loss: 0.6188 - accuracy: 0.7397 - val_loss: 0.6088 - val_accuracy: 0.7580\n",
      "Epoch 14/100\n",
      "1022/1022 [==============================] - 0s 68us/step - loss: 0.6135 - accuracy: 0.7661 - val_loss: 0.6031 - val_accuracy: 0.7808\n",
      "Epoch 15/100\n",
      "1022/1022 [==============================] - 0s 85us/step - loss: 0.6081 - accuracy: 0.7769 - val_loss: 0.5973 - val_accuracy: 0.7900\n",
      "Epoch 16/100\n",
      "1022/1022 [==============================] - 0s 83us/step - loss: 0.6027 - accuracy: 0.7750 - val_loss: 0.5913 - val_accuracy: 0.7900\n",
      "Epoch 17/100\n",
      "1022/1022 [==============================] - 0s 83us/step - loss: 0.5969 - accuracy: 0.7975 - val_loss: 0.5851 - val_accuracy: 0.7945\n",
      "Epoch 18/100\n",
      "1022/1022 [==============================] - 0s 76us/step - loss: 0.5910 - accuracy: 0.7945 - val_loss: 0.5787 - val_accuracy: 0.7991\n",
      "Epoch 19/100\n",
      "1022/1022 [==============================] - 0s 73us/step - loss: 0.5851 - accuracy: 0.8014 - val_loss: 0.5724 - val_accuracy: 0.8174\n",
      "Epoch 20/100\n",
      "1022/1022 [==============================] - 0s 68us/step - loss: 0.5790 - accuracy: 0.8121 - val_loss: 0.5656 - val_accuracy: 0.8174\n",
      "Epoch 21/100\n",
      "1022/1022 [==============================] - 0s 67us/step - loss: 0.5728 - accuracy: 0.8102 - val_loss: 0.5589 - val_accuracy: 0.8174\n",
      "Epoch 22/100\n",
      "1022/1022 [==============================] - 0s 71us/step - loss: 0.5665 - accuracy: 0.8170 - val_loss: 0.5521 - val_accuracy: 0.8311\n",
      "Epoch 23/100\n",
      "1022/1022 [==============================] - 0s 72us/step - loss: 0.5601 - accuracy: 0.8200 - val_loss: 0.5453 - val_accuracy: 0.8402\n",
      "Epoch 24/100\n",
      "1022/1022 [==============================] - 0s 75us/step - loss: 0.5536 - accuracy: 0.8239 - val_loss: 0.5382 - val_accuracy: 0.8402\n",
      "Epoch 25/100\n",
      "1022/1022 [==============================] - 0s 64us/step - loss: 0.5471 - accuracy: 0.8297 - val_loss: 0.5310 - val_accuracy: 0.8447\n",
      "Epoch 26/100\n",
      "1022/1022 [==============================] - 0s 70us/step - loss: 0.5405 - accuracy: 0.8317 - val_loss: 0.5238 - val_accuracy: 0.8539\n",
      "Epoch 27/100\n",
      "1022/1022 [==============================] - 0s 77us/step - loss: 0.5335 - accuracy: 0.8366 - val_loss: 0.5161 - val_accuracy: 0.8539\n",
      "Epoch 28/100\n",
      "1022/1022 [==============================] - 0s 71us/step - loss: 0.5266 - accuracy: 0.8346 - val_loss: 0.5085 - val_accuracy: 0.8630\n",
      "Epoch 29/100\n",
      "1022/1022 [==============================] - 0s 61us/step - loss: 0.5193 - accuracy: 0.8386 - val_loss: 0.5016 - val_accuracy: 0.8721\n",
      "Epoch 30/100\n",
      "1022/1022 [==============================] - 0s 74us/step - loss: 0.5124 - accuracy: 0.8425 - val_loss: 0.4933 - val_accuracy: 0.8630\n",
      "Epoch 31/100\n",
      "1022/1022 [==============================] - 0s 68us/step - loss: 0.5059 - accuracy: 0.8346 - val_loss: 0.4860 - val_accuracy: 0.8676\n",
      "Epoch 32/100\n",
      "1022/1022 [==============================] - 0s 74us/step - loss: 0.4992 - accuracy: 0.8395 - val_loss: 0.4789 - val_accuracy: 0.8721\n",
      "Epoch 33/100\n",
      "1022/1022 [==============================] - 0s 67us/step - loss: 0.4927 - accuracy: 0.8405 - val_loss: 0.4724 - val_accuracy: 0.8767\n",
      "Epoch 34/100\n",
      "1022/1022 [==============================] - 0s 85us/step - loss: 0.4864 - accuracy: 0.8405 - val_loss: 0.4657 - val_accuracy: 0.8858\n",
      "Epoch 35/100\n",
      "1022/1022 [==============================] - 0s 69us/step - loss: 0.4803 - accuracy: 0.8434 - val_loss: 0.4588 - val_accuracy: 0.8858\n",
      "Epoch 36/100\n",
      "1022/1022 [==============================] - 0s 56us/step - loss: 0.4742 - accuracy: 0.8395 - val_loss: 0.4523 - val_accuracy: 0.8858\n",
      "Epoch 37/100\n",
      "1022/1022 [==============================] - 0s 57us/step - loss: 0.4680 - accuracy: 0.8464 - val_loss: 0.4452 - val_accuracy: 0.8813\n",
      "Epoch 38/100\n",
      "1022/1022 [==============================] - 0s 66us/step - loss: 0.4626 - accuracy: 0.8425 - val_loss: 0.4389 - val_accuracy: 0.8858\n",
      "Epoch 39/100\n",
      "1022/1022 [==============================] - 0s 58us/step - loss: 0.4567 - accuracy: 0.8454 - val_loss: 0.4328 - val_accuracy: 0.8858\n",
      "Epoch 40/100\n",
      "1022/1022 [==============================] - 0s 58us/step - loss: 0.4515 - accuracy: 0.8493 - val_loss: 0.4271 - val_accuracy: 0.8995\n",
      "Epoch 41/100\n",
      "1022/1022 [==============================] - 0s 61us/step - loss: 0.4462 - accuracy: 0.8513 - val_loss: 0.4212 - val_accuracy: 0.9041\n",
      "Epoch 42/100\n",
      "1022/1022 [==============================] - 0s 62us/step - loss: 0.4408 - accuracy: 0.8493 - val_loss: 0.4158 - val_accuracy: 0.9041\n",
      "Epoch 43/100\n",
      "1022/1022 [==============================] - 0s 68us/step - loss: 0.4357 - accuracy: 0.8542 - val_loss: 0.4101 - val_accuracy: 0.8995\n",
      "Epoch 44/100\n",
      "1022/1022 [==============================] - 0s 65us/step - loss: 0.4306 - accuracy: 0.8542 - val_loss: 0.4041 - val_accuracy: 0.8995\n",
      "Epoch 45/100\n",
      "1022/1022 [==============================] - 0s 70us/step - loss: 0.4260 - accuracy: 0.8513 - val_loss: 0.3988 - val_accuracy: 0.9041\n",
      "Epoch 46/100\n",
      "1022/1022 [==============================] - 0s 64us/step - loss: 0.4213 - accuracy: 0.8532 - val_loss: 0.3941 - val_accuracy: 0.8904\n",
      "Epoch 47/100\n",
      "1022/1022 [==============================] - 0s 63us/step - loss: 0.4169 - accuracy: 0.8552 - val_loss: 0.3891 - val_accuracy: 0.8858\n",
      "Epoch 48/100\n",
      "1022/1022 [==============================] - 0s 69us/step - loss: 0.4127 - accuracy: 0.8591 - val_loss: 0.3843 - val_accuracy: 0.8858\n",
      "Epoch 49/100\n",
      "1022/1022 [==============================] - 0s 61us/step - loss: 0.4084 - accuracy: 0.8562 - val_loss: 0.3792 - val_accuracy: 0.8950\n",
      "Epoch 50/100\n",
      "1022/1022 [==============================] - 0s 69us/step - loss: 0.4044 - accuracy: 0.8581 - val_loss: 0.3748 - val_accuracy: 0.8858\n",
      "Epoch 51/100\n",
      "1022/1022 [==============================] - 0s 73us/step - loss: 0.4004 - accuracy: 0.8552 - val_loss: 0.3711 - val_accuracy: 0.8950\n",
      "Epoch 52/100\n",
      "1022/1022 [==============================] - 0s 68us/step - loss: 0.3966 - accuracy: 0.8669 - val_loss: 0.3659 - val_accuracy: 0.8950\n",
      "Epoch 53/100\n",
      "1022/1022 [==============================] - 0s 70us/step - loss: 0.3930 - accuracy: 0.8620 - val_loss: 0.3618 - val_accuracy: 0.8950\n",
      "Epoch 54/100\n",
      "1022/1022 [==============================] - 0s 68us/step - loss: 0.3896 - accuracy: 0.8640 - val_loss: 0.3579 - val_accuracy: 0.8950\n",
      "Epoch 55/100\n",
      "1022/1022 [==============================] - 0s 51us/step - loss: 0.3862 - accuracy: 0.8581 - val_loss: 0.3548 - val_accuracy: 0.8950\n",
      "Epoch 56/100\n",
      "1022/1022 [==============================] - 0s 52us/step - loss: 0.3829 - accuracy: 0.8669 - val_loss: 0.3507 - val_accuracy: 0.8904\n",
      "Epoch 57/100\n",
      "1022/1022 [==============================] - 0s 55us/step - loss: 0.3799 - accuracy: 0.8630 - val_loss: 0.3474 - val_accuracy: 0.8950\n",
      "Epoch 58/100\n",
      "1022/1022 [==============================] - 0s 47us/step - loss: 0.3768 - accuracy: 0.8679 - val_loss: 0.3436 - val_accuracy: 0.8950\n",
      "Epoch 59/100\n",
      "1022/1022 [==============================] - 0s 42us/step - loss: 0.3742 - accuracy: 0.8669 - val_loss: 0.3401 - val_accuracy: 0.8995\n",
      "Epoch 60/100\n",
      "1022/1022 [==============================] - 0s 47us/step - loss: 0.3714 - accuracy: 0.8640 - val_loss: 0.3382 - val_accuracy: 0.9041\n",
      "Epoch 61/100\n",
      "1022/1022 [==============================] - 0s 45us/step - loss: 0.3688 - accuracy: 0.8669 - val_loss: 0.3344 - val_accuracy: 0.9041\n",
      "Epoch 62/100\n",
      "1022/1022 [==============================] - 0s 43us/step - loss: 0.3661 - accuracy: 0.8669 - val_loss: 0.3321 - val_accuracy: 0.8995\n",
      "Epoch 63/100\n",
      "1022/1022 [==============================] - 0s 42us/step - loss: 0.3635 - accuracy: 0.8650 - val_loss: 0.3281 - val_accuracy: 0.8950\n",
      "Epoch 64/100\n",
      "1022/1022 [==============================] - 0s 52us/step - loss: 0.3613 - accuracy: 0.8669 - val_loss: 0.3255 - val_accuracy: 0.8995\n",
      "Epoch 65/100\n",
      "1022/1022 [==============================] - 0s 68us/step - loss: 0.3589 - accuracy: 0.8640 - val_loss: 0.3237 - val_accuracy: 0.8995\n",
      "Epoch 66/100\n",
      "1022/1022 [==============================] - 0s 67us/step - loss: 0.3574 - accuracy: 0.8659 - val_loss: 0.3204 - val_accuracy: 0.8950\n",
      "Epoch 67/100\n",
      "1022/1022 [==============================] - 0s 56us/step - loss: 0.3548 - accuracy: 0.8689 - val_loss: 0.3179 - val_accuracy: 0.8995\n",
      "Epoch 68/100\n",
      "1022/1022 [==============================] - 0s 57us/step - loss: 0.3527 - accuracy: 0.8669 - val_loss: 0.3154 - val_accuracy: 0.8950\n",
      "Epoch 69/100\n",
      "1022/1022 [==============================] - 0s 56us/step - loss: 0.3506 - accuracy: 0.8659 - val_loss: 0.3142 - val_accuracy: 0.8995\n",
      "Epoch 70/100\n",
      "1022/1022 [==============================] - 0s 71us/step - loss: 0.3488 - accuracy: 0.8699 - val_loss: 0.3111 - val_accuracy: 0.8995\n",
      "Epoch 71/100\n",
      "1022/1022 [==============================] - 0s 76us/step - loss: 0.3472 - accuracy: 0.8679 - val_loss: 0.3092 - val_accuracy: 0.8995\n",
      "Epoch 72/100\n",
      "1022/1022 [==============================] - 0s 70us/step - loss: 0.3454 - accuracy: 0.8669 - val_loss: 0.3065 - val_accuracy: 0.8950\n",
      "Epoch 73/100\n",
      "1022/1022 [==============================] - 0s 60us/step - loss: 0.3434 - accuracy: 0.8669 - val_loss: 0.3042 - val_accuracy: 0.8995\n",
      "Epoch 74/100\n",
      "1022/1022 [==============================] - 0s 62us/step - loss: 0.3423 - accuracy: 0.8630 - val_loss: 0.3029 - val_accuracy: 0.8950\n",
      "Epoch 75/100\n",
      "1022/1022 [==============================] - 0s 70us/step - loss: 0.3409 - accuracy: 0.8669 - val_loss: 0.3025 - val_accuracy: 0.9041\n",
      "Epoch 76/100\n",
      "1022/1022 [==============================] - 0s 72us/step - loss: 0.3390 - accuracy: 0.8679 - val_loss: 0.2992 - val_accuracy: 0.8950\n",
      "Epoch 77/100\n",
      "1022/1022 [==============================] - 0s 74us/step - loss: 0.3376 - accuracy: 0.8669 - val_loss: 0.2998 - val_accuracy: 0.9041\n",
      "Epoch 78/100\n",
      "1022/1022 [==============================] - 0s 57us/step - loss: 0.3365 - accuracy: 0.8718 - val_loss: 0.2980 - val_accuracy: 0.9041\n",
      "Epoch 79/100\n",
      "1022/1022 [==============================] - 0s 62us/step - loss: 0.3356 - accuracy: 0.8699 - val_loss: 0.2949 - val_accuracy: 0.9041\n",
      "Epoch 80/100\n",
      "1022/1022 [==============================] - 0s 65us/step - loss: 0.3340 - accuracy: 0.8669 - val_loss: 0.2934 - val_accuracy: 0.9041\n",
      "Epoch 81/100\n",
      "1022/1022 [==============================] - 0s 66us/step - loss: 0.3331 - accuracy: 0.8699 - val_loss: 0.2919 - val_accuracy: 0.9041\n",
      "Epoch 82/100\n",
      "1022/1022 [==============================] - 0s 66us/step - loss: 0.3314 - accuracy: 0.8728 - val_loss: 0.2917 - val_accuracy: 0.9041\n",
      "Epoch 83/100\n",
      "1022/1022 [==============================] - 0s 66us/step - loss: 0.3303 - accuracy: 0.8738 - val_loss: 0.2886 - val_accuracy: 0.8995\n",
      "Epoch 84/100\n",
      "1022/1022 [==============================] - 0s 58us/step - loss: 0.3292 - accuracy: 0.8708 - val_loss: 0.2879 - val_accuracy: 0.8995\n",
      "Epoch 85/100\n",
      "1022/1022 [==============================] - 0s 87us/step - loss: 0.3282 - accuracy: 0.8708 - val_loss: 0.2860 - val_accuracy: 0.8995\n",
      "Epoch 86/100\n",
      "1022/1022 [==============================] - 0s 59us/step - loss: 0.3267 - accuracy: 0.8718 - val_loss: 0.2840 - val_accuracy: 0.8995\n",
      "Epoch 87/100\n",
      "1022/1022 [==============================] - 0s 61us/step - loss: 0.3258 - accuracy: 0.8699 - val_loss: 0.2840 - val_accuracy: 0.8995\n",
      "Epoch 88/100\n",
      "1022/1022 [==============================] - 0s 59us/step - loss: 0.3253 - accuracy: 0.8699 - val_loss: 0.2826 - val_accuracy: 0.8995\n",
      "Epoch 89/100\n",
      "1022/1022 [==============================] - 0s 67us/step - loss: 0.3242 - accuracy: 0.8689 - val_loss: 0.2811 - val_accuracy: 0.8995\n",
      "Epoch 90/100\n",
      "1022/1022 [==============================] - 0s 61us/step - loss: 0.3233 - accuracy: 0.8748 - val_loss: 0.2795 - val_accuracy: 0.8995\n",
      "Epoch 91/100\n",
      "1022/1022 [==============================] - 0s 54us/step - loss: 0.3223 - accuracy: 0.8689 - val_loss: 0.2801 - val_accuracy: 0.8995\n",
      "Epoch 92/100\n",
      "1022/1022 [==============================] - 0s 49us/step - loss: 0.3215 - accuracy: 0.8679 - val_loss: 0.2793 - val_accuracy: 0.8995\n",
      "Epoch 93/100\n",
      "1022/1022 [==============================] - 0s 65us/step - loss: 0.3207 - accuracy: 0.8738 - val_loss: 0.2769 - val_accuracy: 0.9041\n",
      "Epoch 94/100\n",
      "1022/1022 [==============================] - 0s 66us/step - loss: 0.3197 - accuracy: 0.8718 - val_loss: 0.2760 - val_accuracy: 0.8995\n",
      "Epoch 95/100\n",
      "1022/1022 [==============================] - 0s 63us/step - loss: 0.3189 - accuracy: 0.8679 - val_loss: 0.2762 - val_accuracy: 0.9041\n",
      "Epoch 96/100\n",
      "1022/1022 [==============================] - 0s 65us/step - loss: 0.3182 - accuracy: 0.8718 - val_loss: 0.2735 - val_accuracy: 0.8995\n",
      "Epoch 97/100\n",
      "1022/1022 [==============================] - 0s 58us/step - loss: 0.3179 - accuracy: 0.8738 - val_loss: 0.2732 - val_accuracy: 0.9041\n",
      "Epoch 98/100\n",
      "1022/1022 [==============================] - 0s 57us/step - loss: 0.3168 - accuracy: 0.8738 - val_loss: 0.2719 - val_accuracy: 0.8995\n",
      "Epoch 99/100\n",
      "1022/1022 [==============================] - 0s 57us/step - loss: 0.3161 - accuracy: 0.8699 - val_loss: 0.2719 - val_accuracy: 0.9041\n",
      "Epoch 100/100\n",
      "1022/1022 [==============================] - 0s 52us/step - loss: 0.3153 - accuracy: 0.8757 - val_loss: 0.2716 - val_accuracy: 0.9041\n"
     ]
    }
   ],
   "source": [
    "hist = model.fit(X_train, Y_train,\n",
    "          batch_size=32, epochs=100,\n",
    "          validation_data=(X_val, Y_val))"
   ]
  },
  {
   "cell_type": "code",
   "execution_count": 17,
   "metadata": {},
   "outputs": [
    {
     "name": "stdout",
     "output_type": "stream",
     "text": [
      "219/219 [==============================] - 0s 36us/step\n"
     ]
    },
    {
     "data": {
      "text/plain": [
       "0.922374427318573"
      ]
     },
     "execution_count": 17,
     "metadata": {},
     "output_type": "execute_result"
    }
   ],
   "source": [
    "model.evaluate(X_test, Y_test)[1]"
   ]
  },
  {
   "cell_type": "markdown",
   "metadata": {},
   "source": [
    "# Visualizar"
   ]
  },
  {
   "cell_type": "code",
   "execution_count": 18,
   "metadata": {},
   "outputs": [
    {
     "data": {
      "image/png": "[encoded data removed]",
      "text/plain": [
       "<Figure size 432x288 with 1 Axes>"
      ]
     },
     "metadata": {
      "needs_background": "light"
     },
     "output_type": "display_data"
    }
   ],
   "source": [
    "import matplotlib.pyplot as plt\n",
    "plt.plot(hist.history['loss'])\n",
    "plt.plot(hist.history['val_loss'])\n",
    "plt.title('Model loss')\n",
    "plt.ylabel('Loss')\n",
    "plt.xlabel('Epoch')\n",
    "plt.legend(['Train', 'Val'], loc='upper right')\n",
    "plt.show()"
   ]
  },
  {
   "cell_type": "code",
   "execution_count": 19,
   "metadata": {},
   "outputs": [
    {
     "data": {
      "image/png": "[encoded data removed]",
      "text/plain": [
       "<Figure size 432x288 with 1 Axes>"
      ]
     },
     "metadata": {
      "needs_background": "light"
     },
     "output_type": "display_data"
    }
   ],
   "source": [
    "plt.plot(hist.history['accuracy'])\n",
    "plt.plot(hist.history['val_accuracy'])\n",
    "plt.title('Model accuracy')\n",
    "plt.ylabel('Accuracy')\n",
    "plt.xlabel('Epoch')\n",
    "plt.legend(['Train', 'Val'], loc='lower right')\n",
    "plt.show()"
   ]
  },
  {
   "cell_type": "markdown",
   "metadata": {},
   "source": [
    "# Adding Regularization"
   ]
  },
  {
   "cell_type": "code",
   "execution_count": 26,
   "metadata": {},
   "outputs": [
    {
     "name": "stdout",
     "output_type": "stream",
     "text": [
      "Train on 1022 samples, validate on 219 samples\n",
      "Epoch 1/100\n",
      "1022/1022 [==============================] - 2s 2ms/step - loss: 0.5100 - accuracy: 0.7769 - val_loss: 0.3423 - val_accuracy: 0.8858\n",
      "Epoch 2/100\n",
      "1022/1022 [==============================] - 2s 2ms/step - loss: 0.3629 - accuracy: 0.8464 - val_loss: 0.3143 - val_accuracy: 0.8950\n",
      "Epoch 3/100\n",
      "1022/1022 [==============================] - 2s 2ms/step - loss: 0.3326 - accuracy: 0.8591 - val_loss: 0.3028 - val_accuracy: 0.8904\n",
      "Epoch 4/100\n",
      "1022/1022 [==============================] - 2s 2ms/step - loss: 0.3212 - accuracy: 0.8767 - val_loss: 0.2795 - val_accuracy: 0.8858\n",
      "Epoch 5/100\n",
      "1022/1022 [==============================] - 2s 2ms/step - loss: 0.3286 - accuracy: 0.8552 - val_loss: 0.3139 - val_accuracy: 0.8904\n",
      "Epoch 6/100\n",
      "1022/1022 [==============================] - 2s 2ms/step - loss: 0.3312 - accuracy: 0.8699 - val_loss: 0.3146 - val_accuracy: 0.8813\n",
      "Epoch 7/100\n",
      "1022/1022 [==============================] - 2s 2ms/step - loss: 0.3262 - accuracy: 0.8689 - val_loss: 0.2485 - val_accuracy: 0.8995\n",
      "Epoch 8/100\n",
      "1022/1022 [==============================] - 2s 2ms/step - loss: 0.2662 - accuracy: 0.8924 - val_loss: 0.2766 - val_accuracy: 0.8721\n",
      "Epoch 9/100\n",
      "1022/1022 [==============================] - 2s 2ms/step - loss: 0.2496 - accuracy: 0.8992 - val_loss: 0.2465 - val_accuracy: 0.8813\n",
      "Epoch 10/100\n",
      "1022/1022 [==============================] - 2s 2ms/step - loss: 0.2559 - accuracy: 0.8933 - val_loss: 0.2536 - val_accuracy: 0.9041\n",
      "Epoch 11/100\n",
      "1022/1022 [==============================] - 2s 2ms/step - loss: 0.2580 - accuracy: 0.8904 - val_loss: 0.2397 - val_accuracy: 0.8950\n",
      "Epoch 12/100\n",
      "1022/1022 [==============================] - 2s 2ms/step - loss: 0.2446 - accuracy: 0.9012 - val_loss: 0.2351 - val_accuracy: 0.9087\n",
      "Epoch 13/100\n",
      "1022/1022 [==============================] - 2s 2ms/step - loss: 0.2298 - accuracy: 0.9100 - val_loss: 0.3254 - val_accuracy: 0.8767\n",
      "Epoch 14/100\n",
      "1022/1022 [==============================] - 2s 2ms/step - loss: 0.2440 - accuracy: 0.8992 - val_loss: 0.2625 - val_accuracy: 0.8904\n",
      "Epoch 15/100\n",
      "1022/1022 [==============================] - 2s 2ms/step - loss: 0.2418 - accuracy: 0.8924 - val_loss: 0.2272 - val_accuracy: 0.8950\n",
      "Epoch 16/100\n",
      "1022/1022 [==============================] - 2s 2ms/step - loss: 0.2227 - accuracy: 0.8973 - val_loss: 0.2427 - val_accuracy: 0.9041\n",
      "Epoch 17/100\n",
      "1022/1022 [==============================] - 2s 2ms/step - loss: 0.2583 - accuracy: 0.8904 - val_loss: 0.2658 - val_accuracy: 0.8995\n",
      "Epoch 18/100\n",
      "1022/1022 [==============================] - 2s 2ms/step - loss: 0.2338 - accuracy: 0.9031 - val_loss: 0.2580 - val_accuracy: 0.8904\n",
      "Epoch 19/100\n",
      "1022/1022 [==============================] - 2s 2ms/step - loss: 0.2457 - accuracy: 0.9002 - val_loss: 0.2292 - val_accuracy: 0.9087\n",
      "Epoch 20/100\n",
      "1022/1022 [==============================] - 2s 2ms/step - loss: 0.2285 - accuracy: 0.9119 - val_loss: 0.2433 - val_accuracy: 0.8950\n",
      "Epoch 21/100\n",
      "1022/1022 [==============================] - 2s 2ms/step - loss: 0.2306 - accuracy: 0.8973 - val_loss: 0.3917 - val_accuracy: 0.8402\n",
      "Epoch 22/100\n",
      "1022/1022 [==============================] - 2s 2ms/step - loss: 0.2696 - accuracy: 0.8855 - val_loss: 0.2285 - val_accuracy: 0.8950\n",
      "Epoch 23/100\n",
      "1022/1022 [==============================] - 2s 2ms/step - loss: 0.2467 - accuracy: 0.8953 - val_loss: 0.2901 - val_accuracy: 0.8858\n",
      "Epoch 24/100\n",
      "1022/1022 [==============================] - 2s 2ms/step - loss: 0.2219 - accuracy: 0.9002 - val_loss: 0.2482 - val_accuracy: 0.8858\n",
      "Epoch 25/100\n",
      "1022/1022 [==============================] - 2s 2ms/step - loss: 0.2082 - accuracy: 0.9110 - val_loss: 0.2150 - val_accuracy: 0.9087\n",
      "Epoch 26/100\n",
      "1022/1022 [==============================] - 2s 2ms/step - loss: 0.2040 - accuracy: 0.9031 - val_loss: 0.2267 - val_accuracy: 0.9087\n",
      "Epoch 27/100\n",
      "1022/1022 [==============================] - 2s 2ms/step - loss: 0.2302 - accuracy: 0.8973 - val_loss: 0.2727 - val_accuracy: 0.9087\n",
      "Epoch 28/100\n",
      "1022/1022 [==============================] - 2s 2ms/step - loss: 0.2259 - accuracy: 0.8894 - val_loss: 0.2280 - val_accuracy: 0.9087\n",
      "Epoch 29/100\n",
      "1022/1022 [==============================] - 2s 2ms/step - loss: 0.2167 - accuracy: 0.9110 - val_loss: 0.2210 - val_accuracy: 0.8995\n",
      "Epoch 30/100\n",
      "1022/1022 [==============================] - 2s 2ms/step - loss: 0.2214 - accuracy: 0.9002 - val_loss: 0.2033 - val_accuracy: 0.9178\n",
      "Epoch 31/100\n",
      "1022/1022 [==============================] - 2s 2ms/step - loss: 0.2256 - accuracy: 0.9061 - val_loss: 0.2259 - val_accuracy: 0.9132\n",
      "Epoch 32/100\n",
      "1022/1022 [==============================] - 2s 2ms/step - loss: 0.2071 - accuracy: 0.9119 - val_loss: 0.2159 - val_accuracy: 0.9041\n",
      "Epoch 33/100\n",
      "1022/1022 [==============================] - 2s 2ms/step - loss: 0.2187 - accuracy: 0.9100 - val_loss: 0.2320 - val_accuracy: 0.8950\n",
      "Epoch 34/100\n",
      "1022/1022 [==============================] - 2s 2ms/step - loss: 0.2151 - accuracy: 0.9041 - val_loss: 0.1946 - val_accuracy: 0.8995\n",
      "Epoch 35/100\n",
      "1022/1022 [==============================] - 2s 2ms/step - loss: 0.1961 - accuracy: 0.9129 - val_loss: 0.2019 - val_accuracy: 0.9224\n",
      "Epoch 36/100\n",
      "1022/1022 [==============================] - 2s 2ms/step - loss: 0.1937 - accuracy: 0.9168 - val_loss: 0.2063 - val_accuracy: 0.9132\n",
      "Epoch 37/100\n",
      "1022/1022 [==============================] - 2s 2ms/step - loss: 0.1947 - accuracy: 0.9207 - val_loss: 0.2101 - val_accuracy: 0.9087\n",
      "Epoch 38/100\n",
      "1022/1022 [==============================] - 2s 2ms/step - loss: 0.1951 - accuracy: 0.9159 - val_loss: 0.2171 - val_accuracy: 0.8995\n",
      "Epoch 39/100\n",
      "1022/1022 [==============================] - 2s 2ms/step - loss: 0.1896 - accuracy: 0.9110 - val_loss: 0.2242 - val_accuracy: 0.8904\n",
      "Epoch 40/100\n",
      "1022/1022 [==============================] - 2s 2ms/step - loss: 0.1846 - accuracy: 0.9159 - val_loss: 0.2209 - val_accuracy: 0.9132\n",
      "Epoch 41/100\n",
      "1022/1022 [==============================] - 2s 2ms/step - loss: 0.2160 - accuracy: 0.9129 - val_loss: 0.2288 - val_accuracy: 0.9087\n",
      "Epoch 42/100\n",
      "1022/1022 [==============================] - 2s 2ms/step - loss: 0.1891 - accuracy: 0.9256 - val_loss: 0.2491 - val_accuracy: 0.8995\n",
      "Epoch 43/100\n",
      "1022/1022 [==============================] - 2s 2ms/step - loss: 0.1861 - accuracy: 0.9178 - val_loss: 0.2401 - val_accuracy: 0.9041\n",
      "Epoch 44/100\n",
      "1022/1022 [==============================] - 2s 2ms/step - loss: 0.2015 - accuracy: 0.9031 - val_loss: 0.3062 - val_accuracy: 0.9087\n",
      "Epoch 45/100\n",
      "1022/1022 [==============================] - 2s 2ms/step - loss: 0.1874 - accuracy: 0.9168 - val_loss: 0.2746 - val_accuracy: 0.8995\n",
      "Epoch 46/100\n",
      "1022/1022 [==============================] - 2s 2ms/step - loss: 0.2236 - accuracy: 0.9031 - val_loss: 0.2106 - val_accuracy: 0.9224\n",
      "Epoch 47/100\n",
      "1022/1022 [==============================] - 2s 2ms/step - loss: 0.1951 - accuracy: 0.9266 - val_loss: 0.2258 - val_accuracy: 0.8995\n",
      "Epoch 48/100\n",
      "1022/1022 [==============================] - 2s 2ms/step - loss: 0.1896 - accuracy: 0.9159 - val_loss: 0.2280 - val_accuracy: 0.8995\n",
      "Epoch 49/100\n",
      "1022/1022 [==============================] - 2s 2ms/step - loss: 0.1738 - accuracy: 0.9247 - val_loss: 0.2218 - val_accuracy: 0.9087\n",
      "Epoch 50/100\n",
      "1022/1022 [==============================] - 2s 2ms/step - loss: 0.2067 - accuracy: 0.8992 - val_loss: 0.2293 - val_accuracy: 0.9087\n",
      "Epoch 51/100\n",
      "1022/1022 [==============================] - 2s 2ms/step - loss: 0.1760 - accuracy: 0.9266 - val_loss: 0.2136 - val_accuracy: 0.8950\n",
      "Epoch 52/100\n",
      "1022/1022 [==============================] - 2s 2ms/step - loss: 0.1940 - accuracy: 0.9217 - val_loss: 0.1932 - val_accuracy: 0.9224\n",
      "Epoch 53/100\n",
      "1022/1022 [==============================] - 2s 2ms/step - loss: 0.1846 - accuracy: 0.9227 - val_loss: 0.2019 - val_accuracy: 0.9132\n",
      "Epoch 54/100\n",
      "1022/1022 [==============================] - 2s 2ms/step - loss: 0.1896 - accuracy: 0.9217 - val_loss: 0.2263 - val_accuracy: 0.9132\n",
      "Epoch 55/100\n",
      "1022/1022 [==============================] - 2s 2ms/step - loss: 0.1706 - accuracy: 0.9344 - val_loss: 0.3300 - val_accuracy: 0.8995\n",
      "Epoch 56/100\n",
      "1022/1022 [==============================] - 2s 2ms/step - loss: 0.1869 - accuracy: 0.9119 - val_loss: 0.2197 - val_accuracy: 0.9178\n"
     ]
    },
    {
     "name": "stdout",
     "output_type": "stream",
     "text": [
      "Epoch 57/100\n",
      "1022/1022 [==============================] - 2s 2ms/step - loss: 0.1662 - accuracy: 0.9217 - val_loss: 0.2440 - val_accuracy: 0.9087\n",
      "Epoch 58/100\n",
      "1022/1022 [==============================] - 2s 2ms/step - loss: 0.1761 - accuracy: 0.9207 - val_loss: 0.3082 - val_accuracy: 0.8995\n",
      "Epoch 59/100\n",
      "1022/1022 [==============================] - 2s 2ms/step - loss: 0.2282 - accuracy: 0.9080 - val_loss: 0.2067 - val_accuracy: 0.9087\n",
      "Epoch 60/100\n",
      "1022/1022 [==============================] - 2s 2ms/step - loss: 0.2146 - accuracy: 0.9149 - val_loss: 0.2155 - val_accuracy: 0.9132\n",
      "Epoch 61/100\n",
      "1022/1022 [==============================] - 2s 2ms/step - loss: 0.1957 - accuracy: 0.9149 - val_loss: 0.2473 - val_accuracy: 0.9087\n",
      "Epoch 62/100\n",
      "1022/1022 [==============================] - 2s 2ms/step - loss: 0.1739 - accuracy: 0.9198 - val_loss: 0.2922 - val_accuracy: 0.8950\n",
      "Epoch 63/100\n",
      "1022/1022 [==============================] - 2s 2ms/step - loss: 0.1816 - accuracy: 0.9198 - val_loss: 0.2445 - val_accuracy: 0.9087\n",
      "Epoch 64/100\n",
      "1022/1022 [==============================] - 2s 2ms/step - loss: 0.1914 - accuracy: 0.9256 - val_loss: 0.2315 - val_accuracy: 0.9041\n",
      "Epoch 65/100\n",
      "1022/1022 [==============================] - 2s 2ms/step - loss: 0.1790 - accuracy: 0.9295 - val_loss: 0.2255 - val_accuracy: 0.9087\n",
      "Epoch 66/100\n",
      "1022/1022 [==============================] - 2s 2ms/step - loss: 0.1577 - accuracy: 0.9276 - val_loss: 0.2116 - val_accuracy: 0.9269\n",
      "Epoch 67/100\n",
      "1022/1022 [==============================] - 2s 2ms/step - loss: 0.1628 - accuracy: 0.9305 - val_loss: 0.2582 - val_accuracy: 0.8950\n",
      "Epoch 68/100\n",
      "1022/1022 [==============================] - 2s 2ms/step - loss: 0.1602 - accuracy: 0.9325 - val_loss: 0.2963 - val_accuracy: 0.8721\n",
      "Epoch 69/100\n",
      "1022/1022 [==============================] - 2s 2ms/step - loss: 0.1836 - accuracy: 0.9198 - val_loss: 0.2431 - val_accuracy: 0.9224\n",
      "Epoch 70/100\n",
      "1022/1022 [==============================] - 2s 2ms/step - loss: 0.1627 - accuracy: 0.9315 - val_loss: 0.2625 - val_accuracy: 0.9041\n",
      "Epoch 71/100\n",
      "1022/1022 [==============================] - 2s 2ms/step - loss: 0.1718 - accuracy: 0.9276 - val_loss: 0.2284 - val_accuracy: 0.9087\n",
      "Epoch 72/100\n",
      "1022/1022 [==============================] - 2s 2ms/step - loss: 0.1812 - accuracy: 0.9227 - val_loss: 0.2450 - val_accuracy: 0.9132\n",
      "Epoch 73/100\n",
      "1022/1022 [==============================] - 2s 2ms/step - loss: 0.1832 - accuracy: 0.9256 - val_loss: 0.2707 - val_accuracy: 0.8995\n",
      "Epoch 74/100\n",
      "1022/1022 [==============================] - 2s 2ms/step - loss: 0.1838 - accuracy: 0.9129 - val_loss: 0.2331 - val_accuracy: 0.9041\n",
      "Epoch 75/100\n",
      "1022/1022 [==============================] - 2s 2ms/step - loss: 0.1483 - accuracy: 0.9344 - val_loss: 0.2299 - val_accuracy: 0.9132\n",
      "Epoch 76/100\n",
      "1022/1022 [==============================] - 2s 2ms/step - loss: 0.1316 - accuracy: 0.9452 - val_loss: 0.2506 - val_accuracy: 0.9132\n",
      "Epoch 77/100\n",
      "1022/1022 [==============================] - 2s 2ms/step - loss: 0.1408 - accuracy: 0.9393 - val_loss: 0.2095 - val_accuracy: 0.9361\n",
      "Epoch 78/100\n",
      "1022/1022 [==============================] - 2s 2ms/step - loss: 0.1383 - accuracy: 0.9442 - val_loss: 0.2184 - val_accuracy: 0.9178\n",
      "Epoch 79/100\n",
      "1022/1022 [==============================] - 2s 2ms/step - loss: 0.1905 - accuracy: 0.9227 - val_loss: 0.1788 - val_accuracy: 0.9315\n",
      "Epoch 80/100\n",
      "1022/1022 [==============================] - 2s 2ms/step - loss: 0.1436 - accuracy: 0.9374 - val_loss: 0.1939 - val_accuracy: 0.9041\n",
      "Epoch 81/100\n",
      "1022/1022 [==============================] - 2s 2ms/step - loss: 0.1344 - accuracy: 0.9442 - val_loss: 0.2365 - val_accuracy: 0.9087\n",
      "Epoch 82/100\n",
      "1022/1022 [==============================] - 2s 2ms/step - loss: 0.1305 - accuracy: 0.9481 - val_loss: 0.2254 - val_accuracy: 0.9224\n",
      "Epoch 83/100\n",
      "1022/1022 [==============================] - 2s 2ms/step - loss: 0.1400 - accuracy: 0.9403 - val_loss: 0.2217 - val_accuracy: 0.9132\n",
      "Epoch 84/100\n",
      "1022/1022 [==============================] - 2s 2ms/step - loss: 0.1398 - accuracy: 0.9364 - val_loss: 0.2125 - val_accuracy: 0.9041\n",
      "Epoch 85/100\n",
      "1022/1022 [==============================] - 2s 2ms/step - loss: 0.1439 - accuracy: 0.9413 - val_loss: 0.2298 - val_accuracy: 0.8950\n",
      "Epoch 86/100\n",
      "1022/1022 [==============================] - 2s 2ms/step - loss: 0.1422 - accuracy: 0.9305 - val_loss: 0.2069 - val_accuracy: 0.9132\n",
      "Epoch 87/100\n",
      "1022/1022 [==============================] - 2s 2ms/step - loss: 0.1567 - accuracy: 0.9325 - val_loss: 0.3058 - val_accuracy: 0.9178\n",
      "Epoch 88/100\n",
      "1022/1022 [==============================] - 2s 2ms/step - loss: 0.1722 - accuracy: 0.9217 - val_loss: 0.2098 - val_accuracy: 0.8950\n",
      "Epoch 89/100\n",
      "1022/1022 [==============================] - 2s 2ms/step - loss: 0.1437 - accuracy: 0.9432 - val_loss: 0.2463 - val_accuracy: 0.9041\n",
      "Epoch 90/100\n",
      "1022/1022 [==============================] - 2s 2ms/step - loss: 0.1226 - accuracy: 0.9511 - val_loss: 0.2421 - val_accuracy: 0.9132\n",
      "Epoch 91/100\n",
      "1022/1022 [==============================] - 2s 2ms/step - loss: 0.1362 - accuracy: 0.9442 - val_loss: 0.2120 - val_accuracy: 0.9224\n",
      "Epoch 92/100\n",
      "1022/1022 [==============================] - 2s 2ms/step - loss: 0.1429 - accuracy: 0.9413 - val_loss: 0.3346 - val_accuracy: 0.9087\n",
      "Epoch 93/100\n",
      "1022/1022 [==============================] - 2s 2ms/step - loss: 0.1455 - accuracy: 0.9384 - val_loss: 0.2367 - val_accuracy: 0.8995\n",
      "Epoch 94/100\n",
      "1022/1022 [==============================] - 2s 2ms/step - loss: 0.1375 - accuracy: 0.9335 - val_loss: 0.2206 - val_accuracy: 0.9224\n",
      "Epoch 95/100\n",
      "1022/1022 [==============================] - 2s 2ms/step - loss: 0.1261 - accuracy: 0.9501 - val_loss: 0.3007 - val_accuracy: 0.9132\n",
      "Epoch 96/100\n",
      "1022/1022 [==============================] - 2s 2ms/step - loss: 0.1258 - accuracy: 0.9511 - val_loss: 0.1996 - val_accuracy: 0.9132\n",
      "Epoch 97/100\n",
      "1022/1022 [==============================] - 2s 2ms/step - loss: 0.1613 - accuracy: 0.9305 - val_loss: 0.3315 - val_accuracy: 0.8676\n",
      "Epoch 98/100\n",
      "1022/1022 [==============================] - 2s 2ms/step - loss: 0.1363 - accuracy: 0.9462 - val_loss: 0.2238 - val_accuracy: 0.8995\n",
      "Epoch 99/100\n",
      "1022/1022 [==============================] - 2s 2ms/step - loss: 0.1155 - accuracy: 0.9511 - val_loss: 0.2026 - val_accuracy: 0.9178\n",
      "Epoch 100/100\n",
      "1022/1022 [==============================] - 2s 2ms/step - loss: 0.1260 - accuracy: 0.9462 - val_loss: 0.2629 - val_accuracy: 0.9087\n"
     ]
    }
   ],
   "source": [
    "\n",
    "\n",
    "model_2 = Sequential([\n",
    "    Dense(1000, activation='relu', input_shape=(10,)),\n",
    "    Dense(1000, activation='relu'),\n",
    "    Dense(1000, activation='relu'),\n",
    "    Dense(1000, activation='relu'),\n",
    "    Dense(1, activation='sigmoid'),\n",
    "])\n",
    "model_2.compile(optimizer='adam',\n",
    "              loss='binary_crossentropy',\n",
    "              metrics=['accuracy'])\n",
    "hist_2 = model_2.fit(X_train, Y_train,\n",
    "          batch_size=32, epochs=100,\n",
    "          validation_data=(X_val, Y_val))\n",
    "\n"
   ]
  },
  {
   "cell_type": "code",
   "execution_count": 27,
   "metadata": {},
   "outputs": [
    {
     "data": {
      "image/png": "[encoded data removed]",
      "text/plain": [
       "<Figure size 432x288 with 1 Axes>"
      ]
     },
     "metadata": {
      "needs_background": "light"
     },
     "output_type": "display_data"
    }
   ],
   "source": [
    "plt.plot(hist_2.history['loss'])\n",
    "plt.plot(hist_2.history['val_loss'])\n",
    "plt.title('Model loss')\n",
    "plt.ylabel('Loss')\n",
    "plt.xlabel('Epoch')\n",
    "plt.legend(['Train', 'Val'], loc='upper right')\n",
    "plt.show()"
   ]
  },
  {
   "cell_type": "code",
   "execution_count": 29,
   "metadata": {},
   "outputs": [
    {
     "data": {
      "image/png": "[encoded data removed]",
      "text/plain": [
       "<Figure size 432x288 with 1 Axes>"
      ]
     },
     "metadata": {
      "needs_background": "light"
     },
     "output_type": "display_data"
    }
   ],
   "source": [
    "plt.plot(hist_2.history['accuracy'])\n",
    "plt.plot(hist_2.history['val_accuracy'])\n",
    "plt.title('Model accuracy')\n",
    "plt.ylabel('Accuracy')\n",
    "plt.xlabel('Epoch')\n",
    "plt.legend(['Train', 'Val'], loc='lower right')\n",
    "plt.show()"
   ]
  },
  {
   "cell_type": "code",
   "execution_count": 30,
   "metadata": {},
   "outputs": [],
   "source": [
    "from keras.layers import Dropout\n",
    "from keras import regularizers"
   ]
  },
  {
   "cell_type": "code",
   "execution_count": 31,
   "metadata": {},
   "outputs": [],
   "source": [
    "model_3 = Sequential([\n",
    "    Dense(1000, activation='relu', kernel_regularizer=regularizers.l2(0.01), input_shape=(10,)),\n",
    "    Dropout(0.3),\n",
    "    Dense(1000, activation='relu', kernel_regularizer=regularizers.l2(0.01)),\n",
    "    Dropout(0.3),\n",
    "    Dense(1000, activation='relu', kernel_regularizer=regularizers.l2(0.01)),\n",
    "    Dropout(0.3),\n",
    "    Dense(1000, activation='relu', kernel_regularizer=regularizers.l2(0.01)),\n",
    "    Dropout(0.3),\n",
    "    Dense(1, activation='sigmoid', kernel_regularizer=regularizers.l2(0.01)),\n",
    "])"
   ]
  },
  {
   "cell_type": "code",
   "execution_count": 32,
   "metadata": {},
   "outputs": [
    {
     "name": "stdout",
     "output_type": "stream",
     "text": [
      "Train on 1022 samples, validate on 219 samples\n",
      "Epoch 1/100\n",
      "1022/1022 [==============================] - 3s 3ms/step - loss: 14.7089 - accuracy: 0.5841 - val_loss: 4.0367 - val_accuracy: 0.7671\n",
      "Epoch 2/100\n",
      "1022/1022 [==============================] - 2s 2ms/step - loss: 1.7172 - accuracy: 0.8170 - val_loss: 0.6163 - val_accuracy: 0.8904\n",
      "Epoch 3/100\n",
      "1022/1022 [==============================] - 3s 2ms/step - loss: 0.6017 - accuracy: 0.8356 - val_loss: 0.4731 - val_accuracy: 0.8950\n",
      "Epoch 4/100\n",
      "1022/1022 [==============================] - 2s 2ms/step - loss: 0.5278 - accuracy: 0.8444 - val_loss: 0.4922 - val_accuracy: 0.8858\n",
      "Epoch 5/100\n",
      "1022/1022 [==============================] - 3s 2ms/step - loss: 0.5303 - accuracy: 0.8405 - val_loss: 0.4566 - val_accuracy: 0.8995\n",
      "Epoch 6/100\n",
      "1022/1022 [==============================] - 2s 2ms/step - loss: 0.4929 - accuracy: 0.8640 - val_loss: 0.4290 - val_accuracy: 0.8995\n",
      "Epoch 7/100\n",
      "1022/1022 [==============================] - 2s 2ms/step - loss: 0.4908 - accuracy: 0.8562 - val_loss: 0.4332 - val_accuracy: 0.8950\n",
      "Epoch 8/100\n",
      "1022/1022 [==============================] - 2s 2ms/step - loss: 0.4996 - accuracy: 0.8601 - val_loss: 0.4900 - val_accuracy: 0.8676\n",
      "Epoch 9/100\n",
      "1022/1022 [==============================] - 2s 2ms/step - loss: 0.4953 - accuracy: 0.8591 - val_loss: 0.4467 - val_accuracy: 0.8950\n",
      "Epoch 10/100\n",
      "1022/1022 [==============================] - 2s 2ms/step - loss: 0.4787 - accuracy: 0.8728 - val_loss: 0.4363 - val_accuracy: 0.8950\n",
      "Epoch 11/100\n",
      "1022/1022 [==============================] - 2s 2ms/step - loss: 0.4673 - accuracy: 0.8699 - val_loss: 0.4241 - val_accuracy: 0.8995\n",
      "Epoch 12/100\n",
      "1022/1022 [==============================] - 2s 2ms/step - loss: 0.4835 - accuracy: 0.8611 - val_loss: 0.4115 - val_accuracy: 0.9132\n",
      "Epoch 13/100\n",
      "1022/1022 [==============================] - 2s 2ms/step - loss: 0.4752 - accuracy: 0.8591 - val_loss: 0.4227 - val_accuracy: 0.9178\n",
      "Epoch 14/100\n",
      "1022/1022 [==============================] - 2s 2ms/step - loss: 0.4793 - accuracy: 0.8650 - val_loss: 0.4232 - val_accuracy: 0.8950\n",
      "Epoch 15/100\n",
      "1022/1022 [==============================] - 2s 2ms/step - loss: 0.5074 - accuracy: 0.8571 - val_loss: 0.4677 - val_accuracy: 0.8767\n",
      "Epoch 16/100\n",
      "1022/1022 [==============================] - 2s 2ms/step - loss: 0.4719 - accuracy: 0.8728 - val_loss: 0.4067 - val_accuracy: 0.9041\n",
      "Epoch 17/100\n",
      "1022/1022 [==============================] - 2s 2ms/step - loss: 0.4836 - accuracy: 0.8659 - val_loss: 0.4535 - val_accuracy: 0.8813\n",
      "Epoch 18/100\n",
      "1022/1022 [==============================] - 2s 2ms/step - loss: 0.4780 - accuracy: 0.8689 - val_loss: 0.4471 - val_accuracy: 0.8858\n",
      "Epoch 19/100\n",
      "1022/1022 [==============================] - 2s 2ms/step - loss: 0.4925 - accuracy: 0.8532 - val_loss: 0.4268 - val_accuracy: 0.8904\n",
      "Epoch 20/100\n",
      "1022/1022 [==============================] - 2s 2ms/step - loss: 0.4672 - accuracy: 0.8669 - val_loss: 0.4017 - val_accuracy: 0.9041\n",
      "Epoch 21/100\n",
      "1022/1022 [==============================] - 2s 2ms/step - loss: 0.4581 - accuracy: 0.8826 - val_loss: 0.4198 - val_accuracy: 0.8995\n",
      "Epoch 22/100\n",
      "1022/1022 [==============================] - 2s 2ms/step - loss: 0.4652 - accuracy: 0.8738 - val_loss: 0.4923 - val_accuracy: 0.8402\n",
      "Epoch 23/100\n",
      "1022/1022 [==============================] - 2s 2ms/step - loss: 0.4827 - accuracy: 0.8503 - val_loss: 0.4108 - val_accuracy: 0.9087\n",
      "Epoch 24/100\n",
      "1022/1022 [==============================] - 2s 2ms/step - loss: 0.4541 - accuracy: 0.8689 - val_loss: 0.4037 - val_accuracy: 0.9178\n",
      "Epoch 25/100\n",
      "1022/1022 [==============================] - 2s 2ms/step - loss: 0.4537 - accuracy: 0.8718 - val_loss: 0.3942 - val_accuracy: 0.9132\n",
      "Epoch 26/100\n",
      "1022/1022 [==============================] - 2s 2ms/step - loss: 0.4458 - accuracy: 0.8836 - val_loss: 0.4032 - val_accuracy: 0.9178\n",
      "Epoch 27/100\n",
      "1022/1022 [==============================] - 2s 2ms/step - loss: 0.4655 - accuracy: 0.8640 - val_loss: 0.4027 - val_accuracy: 0.9178\n",
      "Epoch 28/100\n",
      "1022/1022 [==============================] - 2s 2ms/step - loss: 0.4582 - accuracy: 0.8689 - val_loss: 0.4204 - val_accuracy: 0.8995\n",
      "Epoch 29/100\n",
      "1022/1022 [==============================] - 2s 2ms/step - loss: 0.4652 - accuracy: 0.8826 - val_loss: 0.4449 - val_accuracy: 0.8767\n",
      "Epoch 30/100\n",
      "1022/1022 [==============================] - 2s 2ms/step - loss: 0.4741 - accuracy: 0.8659 - val_loss: 0.4105 - val_accuracy: 0.9087\n",
      "Epoch 31/100\n",
      "1022/1022 [==============================] - 3s 2ms/step - loss: 0.4603 - accuracy: 0.8728 - val_loss: 0.3973 - val_accuracy: 0.9132\n",
      "Epoch 32/100\n",
      "1022/1022 [==============================] - 3s 2ms/step - loss: 0.4566 - accuracy: 0.8796 - val_loss: 0.4431 - val_accuracy: 0.8950\n",
      "Epoch 33/100\n",
      "1022/1022 [==============================] - 2s 2ms/step - loss: 0.4647 - accuracy: 0.8708 - val_loss: 0.4210 - val_accuracy: 0.8721\n",
      "Epoch 34/100\n",
      "1022/1022 [==============================] - 2s 2ms/step - loss: 0.4596 - accuracy: 0.8689 - val_loss: 0.3958 - val_accuracy: 0.9041\n",
      "Epoch 35/100\n",
      "1022/1022 [==============================] - 2s 2ms/step - loss: 0.4564 - accuracy: 0.8689 - val_loss: 0.4034 - val_accuracy: 0.8950\n",
      "Epoch 36/100\n",
      "1022/1022 [==============================] - 2s 2ms/step - loss: 0.4904 - accuracy: 0.8542 - val_loss: 0.4120 - val_accuracy: 0.9178\n",
      "Epoch 37/100\n",
      "1022/1022 [==============================] - 2s 2ms/step - loss: 0.4599 - accuracy: 0.8659 - val_loss: 0.4304 - val_accuracy: 0.9087\n",
      "Epoch 38/100\n",
      "1022/1022 [==============================] - 2s 2ms/step - loss: 0.4674 - accuracy: 0.8738 - val_loss: 0.4319 - val_accuracy: 0.9041\n",
      "Epoch 39/100\n",
      "1022/1022 [==============================] - 2s 2ms/step - loss: 0.4785 - accuracy: 0.8571 - val_loss: 0.4023 - val_accuracy: 0.9087\n",
      "Epoch 40/100\n",
      "1022/1022 [==============================] - 2s 2ms/step - loss: 0.4402 - accuracy: 0.8826 - val_loss: 0.3950 - val_accuracy: 0.9041\n",
      "Epoch 41/100\n",
      "1022/1022 [==============================] - 2s 2ms/step - loss: 0.4628 - accuracy: 0.8699 - val_loss: 0.3926 - val_accuracy: 0.9087\n",
      "Epoch 42/100\n",
      "1022/1022 [==============================] - 2s 2ms/step - loss: 0.4500 - accuracy: 0.8777 - val_loss: 0.3986 - val_accuracy: 0.8995\n",
      "Epoch 43/100\n",
      "1022/1022 [==============================] - 2s 2ms/step - loss: 0.4590 - accuracy: 0.8787 - val_loss: 0.4324 - val_accuracy: 0.8676\n",
      "Epoch 44/100\n",
      "1022/1022 [==============================] - 2s 2ms/step - loss: 0.4602 - accuracy: 0.8806 - val_loss: 0.4043 - val_accuracy: 0.9087\n",
      "Epoch 45/100\n",
      "1022/1022 [==============================] - 2s 2ms/step - loss: 0.4564 - accuracy: 0.8718 - val_loss: 0.4010 - val_accuracy: 0.8950\n",
      "Epoch 46/100\n",
      "1022/1022 [==============================] - 2s 2ms/step - loss: 0.4587 - accuracy: 0.8748 - val_loss: 0.3995 - val_accuracy: 0.9224\n",
      "Epoch 47/100\n",
      "1022/1022 [==============================] - 3s 3ms/step - loss: 0.4570 - accuracy: 0.8796 - val_loss: 0.4116 - val_accuracy: 0.9041\n",
      "Epoch 48/100\n",
      "1022/1022 [==============================] - 3s 3ms/step - loss: 0.4583 - accuracy: 0.8669 - val_loss: 0.3941 - val_accuracy: 0.9178\n",
      "Epoch 49/100\n",
      "1022/1022 [==============================] - 3s 3ms/step - loss: 0.4586 - accuracy: 0.8650 - val_loss: 0.4138 - val_accuracy: 0.9041\n",
      "Epoch 50/100\n",
      "1022/1022 [==============================] - 3s 3ms/step - loss: 0.4749 - accuracy: 0.8503 - val_loss: 0.3992 - val_accuracy: 0.9132\n",
      "Epoch 51/100\n",
      "1022/1022 [==============================] - 3s 3ms/step - loss: 0.4494 - accuracy: 0.8757 - val_loss: 0.3941 - val_accuracy: 0.9132\n",
      "Epoch 52/100\n",
      "1022/1022 [==============================] - 3s 3ms/step - loss: 0.4492 - accuracy: 0.8816 - val_loss: 0.3933 - val_accuracy: 0.9087\n",
      "Epoch 53/100\n",
      "1022/1022 [==============================] - 3s 3ms/step - loss: 0.4612 - accuracy: 0.8718 - val_loss: 0.4116 - val_accuracy: 0.8813\n",
      "Epoch 54/100\n",
      "1022/1022 [==============================] - 3s 3ms/step - loss: 0.4512 - accuracy: 0.8796 - val_loss: 0.4193 - val_accuracy: 0.8721\n",
      "Epoch 55/100\n",
      "1022/1022 [==============================] - 3s 3ms/step - loss: 0.4542 - accuracy: 0.8738 - val_loss: 0.4128 - val_accuracy: 0.9041\n",
      "Epoch 56/100\n",
      "1022/1022 [==============================] - 3s 3ms/step - loss: 0.4636 - accuracy: 0.8640 - val_loss: 0.3977 - val_accuracy: 0.8995\n"
     ]
    },
    {
     "name": "stdout",
     "output_type": "stream",
     "text": [
      "Epoch 57/100\n",
      "1022/1022 [==============================] - 3s 3ms/step - loss: 0.4447 - accuracy: 0.8708 - val_loss: 0.3988 - val_accuracy: 0.9132\n",
      "Epoch 58/100\n",
      "1022/1022 [==============================] - 3s 3ms/step - loss: 0.4621 - accuracy: 0.8630 - val_loss: 0.4227 - val_accuracy: 0.9041\n",
      "Epoch 59/100\n",
      "1022/1022 [==============================] - 3s 3ms/step - loss: 0.4517 - accuracy: 0.8738 - val_loss: 0.3908 - val_accuracy: 0.9132\n",
      "Epoch 60/100\n",
      "1022/1022 [==============================] - 3s 3ms/step - loss: 0.4414 - accuracy: 0.8738 - val_loss: 0.3917 - val_accuracy: 0.9132\n",
      "Epoch 61/100\n",
      "1022/1022 [==============================] - 3s 3ms/step - loss: 0.4702 - accuracy: 0.8748 - val_loss: 0.4429 - val_accuracy: 0.8995\n",
      "Epoch 62/100\n",
      "1022/1022 [==============================] - 3s 3ms/step - loss: 0.4727 - accuracy: 0.8620 - val_loss: 0.3930 - val_accuracy: 0.9087\n",
      "Epoch 63/100\n",
      "1022/1022 [==============================] - 3s 3ms/step - loss: 0.4434 - accuracy: 0.8689 - val_loss: 0.3904 - val_accuracy: 0.9087\n",
      "Epoch 64/100\n",
      "1022/1022 [==============================] - 3s 3ms/step - loss: 0.4534 - accuracy: 0.8659 - val_loss: 0.3971 - val_accuracy: 0.8950\n",
      "Epoch 65/100\n",
      "1022/1022 [==============================] - 3s 3ms/step - loss: 0.4654 - accuracy: 0.8611 - val_loss: 0.4051 - val_accuracy: 0.9132\n",
      "Epoch 66/100\n",
      "1022/1022 [==============================] - 3s 3ms/step - loss: 0.4501 - accuracy: 0.8855 - val_loss: 0.4057 - val_accuracy: 0.8767\n",
      "Epoch 67/100\n",
      "1022/1022 [==============================] - 3s 3ms/step - loss: 0.4669 - accuracy: 0.8699 - val_loss: 0.4131 - val_accuracy: 0.9041\n",
      "Epoch 68/100\n",
      "1022/1022 [==============================] - 3s 3ms/step - loss: 0.4529 - accuracy: 0.8669 - val_loss: 0.3955 - val_accuracy: 0.8950\n",
      "Epoch 69/100\n",
      "1022/1022 [==============================] - 3s 3ms/step - loss: 0.4529 - accuracy: 0.8659 - val_loss: 0.4237 - val_accuracy: 0.8767\n",
      "Epoch 70/100\n",
      "1022/1022 [==============================] - 3s 3ms/step - loss: 0.4724 - accuracy: 0.8679 - val_loss: 0.4044 - val_accuracy: 0.9087\n",
      "Epoch 71/100\n",
      "1022/1022 [==============================] - 3s 3ms/step - loss: 0.4465 - accuracy: 0.8708 - val_loss: 0.4015 - val_accuracy: 0.8858\n",
      "Epoch 72/100\n",
      "1022/1022 [==============================] - 3s 3ms/step - loss: 0.4438 - accuracy: 0.8826 - val_loss: 0.4023 - val_accuracy: 0.9178\n",
      "Epoch 73/100\n",
      "1022/1022 [==============================] - 3s 3ms/step - loss: 0.4532 - accuracy: 0.8708 - val_loss: 0.4103 - val_accuracy: 0.8858\n",
      "Epoch 74/100\n",
      "1022/1022 [==============================] - 3s 3ms/step - loss: 0.4553 - accuracy: 0.8689 - val_loss: 0.3939 - val_accuracy: 0.8950\n",
      "Epoch 75/100\n",
      "1022/1022 [==============================] - 3s 3ms/step - loss: 0.4546 - accuracy: 0.8826 - val_loss: 0.4098 - val_accuracy: 0.8858\n",
      "Epoch 76/100\n",
      "1022/1022 [==============================] - 3s 3ms/step - loss: 0.4755 - accuracy: 0.8532 - val_loss: 0.4225 - val_accuracy: 0.8813\n",
      "Epoch 77/100\n",
      "1022/1022 [==============================] - 3s 3ms/step - loss: 0.4639 - accuracy: 0.8748 - val_loss: 0.4724 - val_accuracy: 0.8447\n",
      "Epoch 78/100\n",
      "1022/1022 [==============================] - 3s 3ms/step - loss: 0.4894 - accuracy: 0.8630 - val_loss: 0.4110 - val_accuracy: 0.8858\n",
      "Epoch 79/100\n",
      "1022/1022 [==============================] - 3s 3ms/step - loss: 0.4531 - accuracy: 0.8748 - val_loss: 0.3929 - val_accuracy: 0.9087\n",
      "Epoch 80/100\n",
      "1022/1022 [==============================] - 3s 3ms/step - loss: 0.4467 - accuracy: 0.8718 - val_loss: 0.3912 - val_accuracy: 0.9087\n",
      "Epoch 81/100\n",
      "1022/1022 [==============================] - 3s 3ms/step - loss: 0.4461 - accuracy: 0.8659 - val_loss: 0.3961 - val_accuracy: 0.9041\n",
      "Epoch 82/100\n",
      "1022/1022 [==============================] - 3s 3ms/step - loss: 0.4540 - accuracy: 0.8699 - val_loss: 0.4072 - val_accuracy: 0.8858\n",
      "Epoch 83/100\n",
      "1022/1022 [==============================] - 3s 3ms/step - loss: 0.4451 - accuracy: 0.8728 - val_loss: 0.3880 - val_accuracy: 0.9087\n",
      "Epoch 84/100\n",
      "1022/1022 [==============================] - 3s 2ms/step - loss: 0.4464 - accuracy: 0.8767 - val_loss: 0.5062 - val_accuracy: 0.8539\n",
      "Epoch 85/100\n",
      "1022/1022 [==============================] - 3s 3ms/step - loss: 0.4947 - accuracy: 0.8542 - val_loss: 0.4616 - val_accuracy: 0.8813\n",
      "Epoch 86/100\n",
      "1022/1022 [==============================] - 3s 3ms/step - loss: 0.4794 - accuracy: 0.8571 - val_loss: 0.3991 - val_accuracy: 0.9132\n",
      "Epoch 87/100\n",
      "1022/1022 [==============================] - 3s 2ms/step - loss: 0.4654 - accuracy: 0.8787 - val_loss: 0.4121 - val_accuracy: 0.8858\n",
      "Epoch 88/100\n",
      "1022/1022 [==============================] - 3s 3ms/step - loss: 0.4429 - accuracy: 0.8767 - val_loss: 0.3965 - val_accuracy: 0.9041\n",
      "Epoch 89/100\n",
      "1022/1022 [==============================] - 3s 3ms/step - loss: 0.4750 - accuracy: 0.8659 - val_loss: 0.4456 - val_accuracy: 0.8721\n",
      "Epoch 90/100\n",
      "1022/1022 [==============================] - 3s 3ms/step - loss: 0.4558 - accuracy: 0.8669 - val_loss: 0.4089 - val_accuracy: 0.8858\n",
      "Epoch 91/100\n",
      "1022/1022 [==============================] - 3s 3ms/step - loss: 0.4681 - accuracy: 0.8650 - val_loss: 0.4579 - val_accuracy: 0.8630\n",
      "Epoch 92/100\n",
      "1022/1022 [==============================] - 3s 3ms/step - loss: 0.4631 - accuracy: 0.8757 - val_loss: 0.4209 - val_accuracy: 0.8721\n",
      "Epoch 93/100\n",
      "1022/1022 [==============================] - 3s 3ms/step - loss: 0.4838 - accuracy: 0.8571 - val_loss: 0.4090 - val_accuracy: 0.9132\n",
      "Epoch 94/100\n",
      "1022/1022 [==============================] - 3s 3ms/step - loss: 0.4661 - accuracy: 0.8659 - val_loss: 0.4201 - val_accuracy: 0.9041\n",
      "Epoch 95/100\n",
      "1022/1022 [==============================] - 3s 3ms/step - loss: 0.4533 - accuracy: 0.8757 - val_loss: 0.3899 - val_accuracy: 0.9087\n",
      "Epoch 96/100\n",
      "1022/1022 [==============================] - 3s 3ms/step - loss: 0.4592 - accuracy: 0.8718 - val_loss: 0.3985 - val_accuracy: 0.9041\n",
      "Epoch 97/100\n",
      "1022/1022 [==============================] - 2s 2ms/step - loss: 0.4363 - accuracy: 0.8806 - val_loss: 0.3930 - val_accuracy: 0.9132\n",
      "Epoch 98/100\n",
      "1022/1022 [==============================] - 3s 3ms/step - loss: 0.4427 - accuracy: 0.8767 - val_loss: 0.3958 - val_accuracy: 0.8950\n",
      "Epoch 99/100\n",
      "1022/1022 [==============================] - 3s 3ms/step - loss: 0.4494 - accuracy: 0.8738 - val_loss: 0.4124 - val_accuracy: 0.8858\n",
      "Epoch 100/100\n",
      "1022/1022 [==============================] - 3s 3ms/step - loss: 0.4666 - accuracy: 0.8650 - val_loss: 0.4057 - val_accuracy: 0.9132\n"
     ]
    }
   ],
   "source": [
    "model_3.compile(optimizer='adam',\n",
    "              loss='binary_crossentropy',\n",
    "              metrics=['accuracy'])\n",
    "hist_3 = model_3.fit(X_train, Y_train,\n",
    "          batch_size=32, epochs=100,\n",
    "          validation_data=(X_val, Y_val))"
   ]
  },
  {
   "cell_type": "code",
   "execution_count": 33,
   "metadata": {},
   "outputs": [
    {
     "data": {
      "image/png": "[encoded data removed]",
      "text/plain": [
       "<Figure size 432x288 with 1 Axes>"
      ]
     },
     "metadata": {
      "needs_background": "light"
     },
     "output_type": "display_data"
    }
   ],
   "source": [
    "plt.plot(hist_3.history['loss'])\n",
    "plt.plot(hist_3.history['val_loss'])\n",
    "plt.title('Model loss')\n",
    "plt.ylabel('Loss')\n",
    "plt.xlabel('Epoch')\n",
    "plt.legend(['Train', 'Val'], loc='upper right')\n",
    "plt.ylim(top=1.2, bottom=0)\n",
    "plt.show()"
   ]
  },
  {
   "cell_type": "code",
   "execution_count": 35,
   "metadata": {},
   "outputs": [
    {
     "data": {
      "image/png": "[encoded data removed]",
      "text/plain": [
       "<Figure size 432x288 with 1 Axes>"
      ]
     },
     "metadata": {
      "needs_background": "light"
     },
     "output_type": "display_data"
    }
   ],
   "source": [
    "plt.plot(hist_3.history['accuracy'])\n",
    "plt.plot(hist_3.history['val_accuracy'])\n",
    "plt.title('Model accuracy')\n",
    "plt.ylabel('Accuracy')\n",
    "plt.xlabel('Epoch')\n",
    "plt.legend(['Train', 'Val'], loc='lower right')\n",
    "plt.show()"
   ]
  },
  {
   "cell_type": "code",
   "execution_count": null,
   "metadata": {},
   "outputs": [],
   "source": []
  }
 ],
 "metadata": {
  "kernelspec": {
   "display_name": "Python 3",
   "language": "python",
   "name": "python3"
  },
  "language_info": {
   "codemirror_mode": {
    "name": "ipython",
    "version": 3
   },
   "file_extension": ".py",
   "mimetype": "text/x-python",
   "name": "python",
   "nbconvert_exporter": "python",
   "pygments_lexer": "ipython3",
   "version": "3.7.7"
  }
 },
 "nbformat": 4,
 "nbformat_minor": 4
}
